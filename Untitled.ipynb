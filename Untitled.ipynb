{
 "cells": [
  {
   "cell_type": "code",
   "execution_count": 34,
   "metadata": {
    "collapsed": true
   },
   "outputs": [],
   "source": [
    "# enter your params\n",
    "\n",
    "read_dir = '191641_dna_seq_rep_8852898_zip'\n",
    "wt_pep = 'bagel_wt/bglb.pep'\n",
    "allowed_mutants = 'allowed_mutants.txt' "
   ]
  },
  {
   "cell_type": "code",
   "execution_count": 35,
   "metadata": {
    "collapsed": true
   },
   "outputs": [],
   "source": [
    "# make a list of all the wells in 96-well plate \n",
    "# unless you can think of a better way to enumerate pairs \n",
    "\n",
    "from itertools import product\n",
    "\n",
    "wells_human = [ '{}{:02}'.format( i, j ) for ( i, j ) in product( 'ABCDEFGH', range( 1, 13 ) ) ]"
   ]
  },
  {
   "cell_type": "code",
   "execution_count": 36,
   "metadata": {
    "collapsed": false
   },
   "outputs": [],
   "source": [
    "# convert all the reads to FASTQ\n",
    "\n",
    "from Bio import SeqIO\n",
    "from glob import glob \n",
    "\n",
    "for read in glob( '{}/*ab1'.format( read_dir ) ):\n",
    "    SeqIO.convert( read, 'abi', read.replace( 'ab1', 'fastq' ), 'fastq' )"
   ]
  },
  {
   "cell_type": "code",
   "execution_count": 37,
   "metadata": {
    "collapsed": false,
    "scrolled": false
   },
   "outputs": [],
   "source": [
    "# pair and merge the reads \n",
    "\n",
    "from subprocess import call, check_output\n",
    "\n",
    "expect = 0\n",
    "for well in wells_human:\n",
    "    #genscript\n",
    "    #fwd = glob( '{}/{}_*T7.fastq'.format( read_dir, well ) ) \n",
    "    #rev = glob( '{}/{}_*T7-Ter.fastq'.format( read_dir, well ) )\n",
    "    #operon \n",
    "    fwd = glob( '{}/*T7_*{}.fastq'.format( read_dir, well ) ) \n",
    "    rev = glob( '{}/*T7term_*{}.fastq'.format( read_dir, well ) )\n",
    "    if len( fwd ) == len( rev ) == 1:\n",
    "        pear_opts = [ '-e', '2' ] \n",
    "        cmd = [ 'pear', '-f', fwd[0], '-r', rev[0], '-o', '{}/{}'.format( read_dir, well ) ] + pear_opts\n",
    "        call( cmd )\n",
    "        expect += 1 "
   ]
  },
  {
   "cell_type": "code",
   "execution_count": 38,
   "metadata": {
    "collapsed": false
   },
   "outputs": [],
   "source": [
    "# convert all the assemblies to FASTA\n",
    "\n",
    "for assembly in glob( '{}/*.assembled.fastq'.format( read_dir ) ):\n",
    "    SeqIO.convert( assembly, 'fastq', assembly.replace( 'fastq', 'fasta' ), 'fasta' )"
   ]
  },
  {
   "cell_type": "code",
   "execution_count": 39,
   "metadata": {
    "collapsed": false
   },
   "outputs": [],
   "source": [
    "# load in allowed mutants for error checking \n",
    "\n",
    "with open( allowed_mutants ) as fn:\n",
    "    allowed_mutants = [ i.strip() for i in fn.readlines() if len(i) > 1 ] "
   ]
  },
  {
   "cell_type": "code",
   "execution_count": 40,
   "metadata": {
    "collapsed": false
   },
   "outputs": [
    {
     "name": "stdout",
     "output_type": "stream",
     "text": [
      "191641_dna_seq_rep_8852898_zip/A08 \tV311A\n",
      "191641_dna_seq_rep_8852898_zip/A10 \t... (9 mutations)\n",
      "191641_dna_seq_rep_8852898_zip/A11 \tL108N\n",
      "191641_dna_seq_rep_8852898_zip/A12 \tD322A\n",
      "191641_dna_seq_rep_8852898_zip/B08 \t... (11 mutations)\n",
      "191641_dna_seq_rep_8852898_zip/B09 \tW325K\n",
      "191641_dna_seq_rep_8852898_zip/B10 \t... (7 mutations)\n",
      "191641_dna_seq_rep_8852898_zip/B11 \t... (3 mutations)\n",
      "191641_dna_seq_rep_8852898_zip/B12 \t... (9 mutations)\n",
      "191641_dna_seq_rep_8852898_zip/C08 \t... (6 mutations)\n",
      "191641_dna_seq_rep_8852898_zip/C09 \t... (14 mutations)\n",
      "191641_dna_seq_rep_8852898_zip/C10 \twild type\n",
      "191641_dna_seq_rep_8852898_zip/C11 \t... (4 mutations)\n",
      "191641_dna_seq_rep_8852898_zip/C12 \tM323T\n",
      "191641_dna_seq_rep_8852898_zip/D08 \twild type\n",
      "191641_dna_seq_rep_8852898_zip/D09 \t... (2 mutations)\n",
      "191641_dna_seq_rep_8852898_zip/D10 \tL272N\n",
      "191641_dna_seq_rep_8852898_zip/D11 \t... (5 mutations)\n",
      "191641_dna_seq_rep_8852898_zip/E08 \tQ124H\n",
      "191641_dna_seq_rep_8852898_zip/E09 \tN220K\n",
      "191641_dna_seq_rep_8852898_zip/E11 \t... (15 mutations)\n",
      "191641_dna_seq_rep_8852898_zip/F07 \tQ313E\n",
      "191641_dna_seq_rep_8852898_zip/F08 \t... (2 mutations)\n",
      "191641_dna_seq_rep_8852898_zip/F10 \tN293K\n",
      "191641_dna_seq_rep_8852898_zip/F11 \tW399H\n",
      "191641_dna_seq_rep_8852898_zip/F12 \tH178N\n",
      "191641_dna_seq_rep_8852898_zip/G07 \t... (3 mutations)\n",
      "191641_dna_seq_rep_8852898_zip/G08 \t... (3 mutations)\n",
      "191641_dna_seq_rep_8852898_zip/G09 \tN220Y\n",
      "191641_dna_seq_rep_8852898_zip/G10 \twild type\n",
      "191641_dna_seq_rep_8852898_zip/G11 \tD322A\n",
      "191641_dna_seq_rep_8852898_zip/G12 \tH178N\n",
      "191641_dna_seq_rep_8852898_zip/H07 \tQ313E\n",
      "191641_dna_seq_rep_8852898_zip/H08 \tV311D\n",
      "191641_dna_seq_rep_8852898_zip/H09 \t... (7 mutations)\n",
      "191641_dna_seq_rep_8852898_zip/H10 \tN293K\n",
      "191641_dna_seq_rep_8852898_zip/H11 \t... (8 mutations)\n"
     ]
    }
   ],
   "source": [
    "# diff the assemblies against the wild type protein sequence \n",
    "\n",
    "singles = []\n",
    "for assembly in glob( '{}/*.assembled.fasta'.format( read_dir ) ):\n",
    "    name = assembly.split( '.' )[0] \n",
    "    lines = check_output( [ 'blastx', '-subject', wt_pep, '-query', assembly, '-outfmt', '6 sseq qseq length' ] ).split()\n",
    "    if lines and lines[0] and lines[1] and lines[2]:\n",
    "        z = zip( lines[0], lines[1] )\n",
    "        d = [ '{}{}{}'.format( i, n+1, j ) for n, ( i, j ) in enumerate( z ) if i != j ]\n",
    "        dstr = '+'.join( d ) \n",
    "        if len( d ) == 0: \n",
    "            print name, '\\twild type'\n",
    "        elif len( d ) == 1:\n",
    "            if d[0] in allowed_mutants:\n",
    "                print name, '\\t{}'.format( dstr ) \n",
    "                singles.append( ( d[0], name ) )\n",
    "            else:\n",
    "                print name, '\\tbad alignment'\n",
    "        elif len( d ) > 1:\n",
    "            print name, '\\t... ({} mutations)'.format( len( d ) ) \n",
    "            #print name, '\\t{}'.format( dstr ) "
   ]
  },
  {
   "cell_type": "code",
   "execution_count": 41,
   "metadata": {
    "collapsed": false
   },
   "outputs": [
    {
     "data": {
      "text/plain": [
       "[('V311A', '191641_dna_seq_rep_8852898_zip/A08'),\n",
       " ('L108N', '191641_dna_seq_rep_8852898_zip/A11'),\n",
       " ('D322A', '191641_dna_seq_rep_8852898_zip/A12'),\n",
       " ('W325K', '191641_dna_seq_rep_8852898_zip/B09'),\n",
       " ('M323T', '191641_dna_seq_rep_8852898_zip/C12'),\n",
       " ('L272N', '191641_dna_seq_rep_8852898_zip/D10'),\n",
       " ('Q124H', '191641_dna_seq_rep_8852898_zip/E08'),\n",
       " ('N220K', '191641_dna_seq_rep_8852898_zip/E09'),\n",
       " ('Q313E', '191641_dna_seq_rep_8852898_zip/F07'),\n",
       " ('N293K', '191641_dna_seq_rep_8852898_zip/F10'),\n",
       " ('W399H', '191641_dna_seq_rep_8852898_zip/F11'),\n",
       " ('H178N', '191641_dna_seq_rep_8852898_zip/F12'),\n",
       " ('N220Y', '191641_dna_seq_rep_8852898_zip/G09'),\n",
       " ('D322A', '191641_dna_seq_rep_8852898_zip/G11'),\n",
       " ('H178N', '191641_dna_seq_rep_8852898_zip/G12'),\n",
       " ('Q313E', '191641_dna_seq_rep_8852898_zip/H07'),\n",
       " ('V311D', '191641_dna_seq_rep_8852898_zip/H08'),\n",
       " ('N293K', '191641_dna_seq_rep_8852898_zip/H10')]"
      ]
     },
     "execution_count": 41,
     "metadata": {},
     "output_type": "execute_result"
    }
   ],
   "source": [
    "singles"
   ]
  },
  {
   "cell_type": "code",
   "execution_count": 42,
   "metadata": {
    "collapsed": false
   },
   "outputs": [
    {
     "data": {
      "text/plain": [
       "{'D322A': '191641_dna_seq_rep_8852898_zip/G11',\n",
       " 'H178N': '191641_dna_seq_rep_8852898_zip/G12',\n",
       " 'L108N': '191641_dna_seq_rep_8852898_zip/A11',\n",
       " 'L272N': '191641_dna_seq_rep_8852898_zip/D10',\n",
       " 'M323T': '191641_dna_seq_rep_8852898_zip/C12',\n",
       " 'N220K': '191641_dna_seq_rep_8852898_zip/E09',\n",
       " 'N220Y': '191641_dna_seq_rep_8852898_zip/G09',\n",
       " 'N293K': '191641_dna_seq_rep_8852898_zip/H10',\n",
       " 'Q124H': '191641_dna_seq_rep_8852898_zip/E08',\n",
       " 'Q313E': '191641_dna_seq_rep_8852898_zip/H07',\n",
       " 'V311A': '191641_dna_seq_rep_8852898_zip/A08',\n",
       " 'V311D': '191641_dna_seq_rep_8852898_zip/H08',\n",
       " 'W325K': '191641_dna_seq_rep_8852898_zip/B09',\n",
       " 'W399H': '191641_dna_seq_rep_8852898_zip/F11'}"
      ]
     },
     "execution_count": 42,
     "metadata": {},
     "output_type": "execute_result"
    }
   ],
   "source": [
    "dict( singles ) "
   ]
  },
  {
   "cell_type": "code",
   "execution_count": 43,
   "metadata": {
    "collapsed": false
   },
   "outputs": [
    {
     "name": "stdout",
     "output_type": "stream",
     "text": [
      "Found 14 of 0 expected mutants\n"
     ]
    }
   ],
   "source": [
    "# results \n",
    "\n",
    "picks = dict( singles ) \n",
    "l = len( picks ) \n",
    "print 'Found {} of {} expected mutants'.format( l, expect ) "
   ]
  },
  {
   "cell_type": "code",
   "execution_count": null,
   "metadata": {
    "collapsed": true
   },
   "outputs": [],
   "source": []
  }
 ],
 "metadata": {
  "kernelspec": {
   "display_name": "Python 2",
   "language": "python",
   "name": "python2"
  },
  "language_info": {
   "codemirror_mode": {
    "name": "ipython",
    "version": 2
   },
   "file_extension": ".py",
   "mimetype": "text/x-python",
   "name": "python",
   "nbconvert_exporter": "python",
   "pygments_lexer": "ipython2",
   "version": "2.7.11"
  }
 },
 "nbformat": 4,
 "nbformat_minor": 0
}
