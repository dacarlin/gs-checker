{
 "cells": [
  {
   "cell_type": "markdown",
   "metadata": {},
   "source": [
    "# Kunkel sequence verifier \n",
    "\n",
    "Will attempt to verify your Kunkel sequencing results and pick clones with desired mutations. "
   ]
  },
  {
   "cell_type": "code",
   "execution_count": 49,
   "metadata": {
    "collapsed": false
   },
   "outputs": [
    {
     "name": "stdout",
     "output_type": "stream",
     "text": [
      "H09_U5271BB220-61_A7-1_T7-Ter.ab1\r\n",
      "H09_U5271BB220-61_A7-1_T7-Ter.seq\r\n",
      "H10_U5271BB220-27_A9-3_T7.ab1\r\n",
      "H10_U5271BB220-27_A9-3_T7.seq\r\n",
      "H10_U5271BB220-69_A9-3_T7-Ter.ab1\r\n",
      "H10_U5271BB220-69_A9-3_T7-Ter.seq\r\n",
      "H11_U5271BB220-35_A12-2_T7.ab1\r\n",
      "H11_U5271BB220-35_A12-2_T7.seq\r\n",
      "H11_U5271BB220-77_A12-2_T7-Ter.ab1\r\n",
      "H11_U5271BB220-77_A12-2_T7-Ter.seq\r\n"
     ]
    }
   ],
   "source": [
    "! ls 191641_dna_seq_rep_8852898_zip/ | tail"
   ]
  },
  {
   "cell_type": "markdown",
   "metadata": {},
   "source": [
    "## Using `pear` to join paired reads \n",
    "\n",
    "Unfortunatly requires converting back and forth between file types "
   ]
  },
  {
   "cell_type": "code",
   "execution_count": 95,
   "metadata": {
    "collapsed": false,
    "scrolled": false
   },
   "outputs": [
    {
     "name": "stdout",
     "output_type": "stream",
     "text": [
      "['V311A'] A08.assembled.fastq\n",
      "||||||||| mutations A10.assembled.fastq\n",
      "['L108N'] A11.assembled.fastq\n",
      "['D322A'] A12.assembled.fastq\n",
      "||||||||||| mutations B08.assembled.fastq\n",
      "['W325K'] B09.assembled.fastq\n",
      "||||||| mutations B10.assembled.fastq\n",
      "||| mutations B11.assembled.fastq\n",
      "||||||||| mutations B12.assembled.fastq\n",
      "|||||| mutations C08.assembled.fastq\n",
      "|||||||||||||| mutations C09.assembled.fastq\n",
      "[] wild type C10.assembled.fastq\n",
      "|||| mutations C11.assembled.fastq\n",
      "['M323T'] C12.assembled.fastq\n",
      "[] wild type D08.assembled.fastq\n",
      "|| mutations D09.assembled.fastq\n",
      "['L272N'] D10.assembled.fastq\n",
      "||||| mutations D11.assembled.fastq\n",
      "['Q124H'] E08.assembled.fastq\n",
      "['N220K'] E09.assembled.fastq\n",
      "||||||||||||||| mutations E11.assembled.fastq\n",
      "['Q313E'] F07.assembled.fastq\n",
      "|| mutations F08.assembled.fastq\n",
      "['N293K'] F10.assembled.fastq\n",
      "['W399H'] F11.assembled.fastq\n",
      "['H178N'] F12.assembled.fastq\n",
      "||| mutations G07.assembled.fastq\n",
      "||| mutations G08.assembled.fastq\n",
      "['N220Y'] G09.assembled.fastq\n",
      "[] wild type G10.assembled.fastq\n",
      "['D322A'] G11.assembled.fastq\n",
      "['H178N'] G12.assembled.fastq\n",
      "['Q313E'] H07.assembled.fastq\n",
      "['V311D'] H08.assembled.fastq\n",
      "||||||| mutations H09.assembled.fastq\n",
      "['N293K'] H10.assembled.fastq\n",
      "|||||||| mutations H11.assembled.fastq\n"
     ]
    }
   ],
   "source": [
    "from itertools import product \n",
    "from subprocess import call, check_output\n",
    "from glob import glob \n",
    "\n",
    "# input\n",
    "read_dir = '191641_dna_seq_rep_8852898_zip/'\n",
    "\n",
    "# well list \n",
    "wells_human = [ '{}{:02}'.format( i, j ) for ( i, j ) in product( 'ABCDEFGH', range( 1, 13 ) ) ]\n",
    "\n",
    "# convert files \n",
    "from Bio import SeqIO\n",
    "\n",
    "# merge, first need to convert abi files to fastq \n",
    "count = 0\n",
    "for well in wells_human:\n",
    "    fwd = glob( '{}/{}_*T7.ab1'.format( read_dir, well ) ) \n",
    "    rev = glob( '{}/{}_*T7-Ter.ab1'.format( read_dir, well ) )\n",
    "    if fwd and rev:\n",
    "        fwdq = fwd[0].replace( 'ab1', 'fastq' )\n",
    "        revq = rev[0].replace( 'ab1', 'fastq' )\n",
    "        SeqIO.convert( fwd[0], 'abi', fwdq, 'fastq' )\n",
    "        SeqIO.convert( rev[0], 'abi', revq, 'fastq' )\n",
    "        cmd = [ 'pear', '-f', fwdq, '-r', revq, '-o', well ] \n",
    "        call( cmd )\n",
    "        \n",
    "# align and diff, first need to convert fastq files back to fasta  \n",
    "for fa in glob( '*.assembled.fastq'.format( read_dir ) ):\n",
    "    fq = fa.replace( 'fastq', 'fasta' )\n",
    "    SeqIO.convert( fa, 'fastq', fq, 'fasta' )\n",
    "    lines = check_output( [ 'blastx', '-subject', 'example/bglb.pep', '-query', fq, '-outfmt',  '6 sseq qseq' ] ).split()\n",
    "    if lines and lines[0] and lines[1]:\n",
    "        z = zip( lines[0], lines[1] )\n",
    "        d = [ '{}{}{}'.format( i, n+1, j ) for n, ( i, j ) in enumerate( z ) if i != j ] \n",
    "        if len( d ) == 0: \n",
    "            print '[] wild type', fa \n",
    "        if len( d ) == 1:\n",
    "            print d, fa \n",
    "        elif len( d ) > 1:\n",
    "            print len( d ) * '|', 'mutations', fa  #d, fa"
   ]
  },
  {
   "cell_type": "markdown",
   "metadata": {},
   "source": [
    "## Using phred scores and a fixed quality threshold "
   ]
  },
  {
   "cell_type": "code",
   "execution_count": 87,
   "metadata": {
    "collapsed": false,
    "scrolled": false
   },
   "outputs": [
    {
     "name": "stdout",
     "output_type": "stream",
     "text": [
      "|||\n",
      "['V92D'] 191641_dna_seq_rep_8852898_zip/A09.fa\n",
      "|||\n",
      "['L108N'] 191641_dna_seq_rep_8852898_zip/A11.fa\n",
      "||\n",
      "|||\n",
      "['W325K'] 191641_dna_seq_rep_8852898_zip/B09.fa\n",
      "|||\n",
      "|||\n",
      "|||||||||||||||\n",
      "||\n",
      "||||||||||||\n",
      "['L108N'] 191641_dna_seq_rep_8852898_zip/C11.fa\n",
      "|||\n",
      "['I4X'] 191641_dna_seq_rep_8852898_zip/D08.fa\n",
      "|||\n",
      "||||||\n",
      "|||||||||||\n",
      "['I4X'] 191641_dna_seq_rep_8852898_zip/E08.fa\n",
      "['N220X'] 191641_dna_seq_rep_8852898_zip/E09.fa\n",
      "|||||||||||||||||||||||||||||||||||||||||||||||\n",
      "['W180H'] 191641_dna_seq_rep_8852898_zip/E11.fa\n",
      "||||\n",
      "['Q313E'] 191641_dna_seq_rep_8852898_zip/F07.fa\n",
      "||\n",
      "||||||||||||||||||||||||||||||\n",
      "['N293K'] 191641_dna_seq_rep_8852898_zip/F10.fa\n",
      "||\n",
      "['H178N'] 191641_dna_seq_rep_8852898_zip/F12.fa\n",
      "['V311D'] 191641_dna_seq_rep_8852898_zip/G08.fa\n",
      "['N220X'] 191641_dna_seq_rep_8852898_zip/G09.fa\n",
      "['D322A'] 191641_dna_seq_rep_8852898_zip/G11.fa\n",
      "['H178N'] 191641_dna_seq_rep_8852898_zip/G12.fa\n",
      "['Q313E'] 191641_dna_seq_rep_8852898_zip/H07.fa\n",
      "['V311D'] 191641_dna_seq_rep_8852898_zip/H08.fa\n",
      "|||||||\n",
      "['N293K'] 191641_dna_seq_rep_8852898_zip/H10.fa\n",
      "|||||||||\n"
     ]
    }
   ],
   "source": [
    "from itertools import product \n",
    "from subprocess import call, check_output\n",
    "from glob import glob \n",
    "from Bio import SeqIO\n",
    "\n",
    "# input\n",
    "read_dir = '191641_dna_seq_rep_8852898_zip/'\n",
    "\n",
    "# first, we need a way to quickly generate all the possible wells in a 96-well plate \n",
    "wells_human = [ '{}{:02}'.format( i, j ) for ( i, j ) in product( 'ABCDEFGH', range( 1, 13 ) ) ]\n",
    "# woo one-liners \n",
    "\n",
    "# merge \n",
    "for well in wells_human:\n",
    "    \n",
    "    fwd = glob( '{}/{}_*T7.ab1'.format( read_dir, well ) )\n",
    "    rev = glob( '{}/{}_*T7-Ter.ab1'.format( read_dir, well ) )\n",
    "\n",
    "    if fwd and rev:\n",
    "        \n",
    "        phred_qual = 10\n",
    "        \n",
    "        f = SeqIO.read( open( fwd[0], 'rb' ), \"abi\" )\n",
    "        fz = zip( f.letter_annotations['phred_quality'], f.seq )\n",
    "        fn = ''.join( [ base if qual > phred_qual else 'N' for (qual, base) in fz ] )\n",
    "        with open( '{}/{}.fwd.fasta'.format( read_dir, well ), 'w' ) as fwd_out:\n",
    "            fwd_out.write( '>{}\\n{}\\n'.format( well, fn ) )\n",
    "        \n",
    "        r = SeqIO.read( open( rev[0], 'rb' ), \"abi\" )\n",
    "        rz = zip( r.letter_annotations['phred_quality'], r.seq )\n",
    "        rn = ''.join( [ base if qual > phred_qual else 'N' for (qual, base) in rz ] )\n",
    "        with open( '{}/{}.rev.fasta'.format( read_dir, well ), 'w' ) as rev_out:\n",
    "            rev_out.write( '>{}\\n{}\\n'.format( well, rn ) )\n",
    "            \n",
    "        cmd = [ 'merger', '-asequence', '{}/{}.fwd.fasta'.format( read_dir, well ), '-bsequence', '{}/{}.rev.fasta'.format( read_dir, well ), '-sreverse2' ]\n",
    "        outs = [ '-outfile', '{}/{}.merger'.format( read_dir, well ), '-outseq', '{}/{}.fa'.format( read_dir, well ) ]\n",
    "        call( cmd + outs )\n",
    "\n",
    "# align and diff \n",
    "for fa in glob( '{}/*fa'.format( read_dir ) ):\n",
    "    lines = check_output( [ 'blastx', '-subject', 'example/bglb.pep', '-query', fa, '-outfmt',  '6 sseq qseq' ] ).split()\n",
    "    z = zip( lines[0], lines[1] )\n",
    "    d = [ '{}{}{}'.format( i, n+1, j ) for n, ( i, j ) in enumerate( z ) if i != j ] \n",
    "    if len( d ) == 1:\n",
    "        print d, fa \n",
    "    elif len( d ) > 1:\n",
    "        print len( d ) * '|' #d, fa\n",
    "                          "
   ]
  },
  {
   "cell_type": "markdown",
   "metadata": {
    "collapsed": true
   },
   "source": [
    "## Which provides better results? "
   ]
  },
  {
   "cell_type": "code",
   "execution_count": null,
   "metadata": {
    "collapsed": true
   },
   "outputs": [],
   "source": []
  }
 ],
 "metadata": {
  "kernelspec": {
   "display_name": "Python 2",
   "language": "python",
   "name": "python2"
  },
  "language_info": {
   "codemirror_mode": {
    "name": "ipython",
    "version": 2
   },
   "file_extension": ".py",
   "mimetype": "text/x-python",
   "name": "python",
   "nbconvert_exporter": "python",
   "pygments_lexer": "ipython2",
   "version": "2.7.11"
  }
 },
 "nbformat": 4,
 "nbformat_minor": 0
}
