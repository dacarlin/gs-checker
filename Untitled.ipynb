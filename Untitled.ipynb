{
 "cells": [
  {
   "cell_type": "code",
   "execution_count": 24,
   "metadata": {
    "collapsed": true
   },
   "outputs": [],
   "source": [
    "# enter your params\n",
    "\n",
    "read_dir = 'order_with_small_u_removed/' \n",
    "wt_pep = 'bagel_wt/bglb.pep'\n",
    "allowed_mutants = 'allowed_mutants.txt' \n",
    "sample_list = []"
   ]
  },
  {
   "cell_type": "code",
   "execution_count": 25,
   "metadata": {
    "collapsed": false
   },
   "outputs": [],
   "source": [
    "# convert all the reads to FASTQ\n",
    "\n",
    "from Bio import SeqIO\n",
    "from glob import glob \n",
    "\n",
    "for read in glob( '{}/*ab1'.format( read_dir ) ):\n",
    "    SeqIO.convert( read, 'abi', read.replace( 'ab1', 'fastq' ), 'fastq' )"
   ]
  },
  {
   "cell_type": "code",
   "execution_count": 26,
   "metadata": {
    "collapsed": false
   },
   "outputs": [],
   "source": [
    "# read from file \n",
    "\n",
    "my_sample_list_file = 'my_samples.txt'\n",
    "\n",
    "with open( my_sample_list_file ) as fn:\n",
    "    sample_list = fn.read().split()\n",
    "\n",
    "# try get a ist of the samples if we don't already have that \n",
    "\n",
    "if not sample_list:\n",
    "    my_glob = '{}/*fastq'\n",
    "    print 'No sample list, attempting to find one with the glob \"{}\"'.format( my_glob ) \n",
    "    my_files = glob( my_glob.format( read_dir ) )\n",
    "    #my_samples = map( lambda x: x.split( '/' )[1].split( '_' )[2], my_files ) \n",
    "    sample_list = [ x.split( '/' )[1].split( '_' )[2] for x in my_files ] \n",
    "    print sample_list "
   ]
  },
  {
   "cell_type": "code",
   "execution_count": 27,
   "metadata": {
    "collapsed": false
   },
   "outputs": [
    {
     "name": "stdout",
     "output_type": "stream",
     "text": [
      "['A1-1', 'A1-2', 'A1-3', 'A10-1', 'A10-2', 'A10-3', 'A11-1', 'A11-2', 'A11-3', 'A2-1', 'A2-2', 'A2-3', 'A3-1', 'A3-2', 'A3-3', 'A4-1', 'A4-2', 'A4-3', 'A5-1', 'A5-2', 'A5-3', 'A6-1', 'A6-2', 'A6-3', 'A7-1', 'A7-2', 'A7-3', 'A8-1', 'A8-2', 'A8-3', 'A9-1', 'A9-2', 'A9-3']\n"
     ]
    }
   ],
   "source": [
    "print sample_list"
   ]
  },
  {
   "cell_type": "code",
   "execution_count": 28,
   "metadata": {
    "collapsed": false,
    "scrolled": false
   },
   "outputs": [
    {
     "name": "stdout",
     "output_type": "stream",
     "text": [
      "1 1\n",
      "1 1\n",
      "1 1\n",
      "1 1\n",
      "1 1\n",
      "1 1\n",
      "1 1\n",
      "1 1\n",
      "1 1\n",
      "1 1\n",
      "1 1\n",
      "1 1\n",
      "1 1\n",
      "1 1\n",
      "1 1\n",
      "1 1\n",
      "1 1\n",
      "1 1\n",
      "1 1\n",
      "1 1\n",
      "1 1\n",
      "1 1\n",
      "1 1\n",
      "1 1\n",
      "0 1\n",
      "1 1\n",
      "1 1\n",
      "0 1\n",
      "1 1\n",
      "1 1\n",
      "1 1\n",
      "1 1\n",
      "1 1\n"
     ]
    }
   ],
   "source": [
    "# pair and merge the reads \n",
    "\n",
    "from subprocess import call, check_output\n",
    "\n",
    "expect = 0\n",
    "for sample in sample_list:\n",
    "    #genscript\n",
    "    fwd = glob( '{}/*_{}_T7.fastq'.format( read_dir, sample ) ) \n",
    "    rev = glob( '{}/*_{}_T7-Ter.fastq'.format( read_dir, sample ) )\n",
    "    print len(fwd), len(rev)\n",
    "    #operon \n",
    "    #fwd = glob( '{}/*T7_*{}.fastq'.format( read_dir, well ) ) \n",
    "    #rev = glob( '{}/*T7term_*{}.fastq'.format( read_dir, well ) )\n",
    "    if len( fwd ) == len( rev ) == 1:\n",
    "        pear_opts = [ '-e', '2' ] \n",
    "        cmd = [ 'pear', '-f', fwd[0], '-r', rev[0], '-o', '{}/{}'.format( read_dir, sample ) ] + pear_opts\n",
    "        call( cmd )\n",
    "        expect += 1 "
   ]
  },
  {
   "cell_type": "code",
   "execution_count": 29,
   "metadata": {
    "collapsed": false
   },
   "outputs": [],
   "source": [
    "# convert all the assemblies to FASTA\n",
    "\n",
    "for assembly in glob( '{}/*.assembled.fastq'.format( read_dir ) ):\n",
    "    SeqIO.convert( assembly, 'fastq', assembly.replace( 'fastq', 'fasta' ), 'fasta' )"
   ]
  },
  {
   "cell_type": "code",
   "execution_count": 30,
   "metadata": {
    "collapsed": false
   },
   "outputs": [],
   "source": [
    "# load in allowed mutants for error checking \n",
    "\n",
    "with open( allowed_mutants ) as fn:\n",
    "    allowed_mutants = [ i.strip() for i in fn.readlines() if len(i) > 1 ] "
   ]
  },
  {
   "cell_type": "code",
   "execution_count": 31,
   "metadata": {
    "collapsed": false
   },
   "outputs": [
    {
     "name": "stdout",
     "output_type": "stream",
     "text": [
      "order_with_small_u_removed/A4-2 \twild type\n",
      "order_with_small_u_removed/A4-3 \t... (2 mutations)\n",
      "order_with_small_u_removed/A5-3 \t... (2 mutations)\n",
      "order_with_small_u_removed/A6-1 \t... (9 mutations)\n"
     ]
    }
   ],
   "source": [
    "# diff the assemblies against the wild type protein sequence \n",
    "\n",
    "singles = []\n",
    "for assembly in glob( '{}/*.assembled.fasta'.format( read_dir ) ):\n",
    "    name = assembly.split( '.' )[0] \n",
    "    lines = check_output( [ 'blastx', '-subject', wt_pep, '-query', assembly, '-outfmt', '6 sseq qseq length' ] ).split()\n",
    "    if lines and lines[0] and lines[1] and lines[2]:\n",
    "        z = zip( lines[0], lines[1] )\n",
    "        d = [ '{}{}{}'.format( i, n+1, j ) for n, ( i, j ) in enumerate( z ) if i != j ]\n",
    "        dstr = '+'.join( d ) \n",
    "        if len( d ) == 0: \n",
    "            print name, '\\twild type'\n",
    "        elif len( d ) == 1:\n",
    "            if d[0] in allowed_mutants:\n",
    "                print name, '\\t{}'.format( dstr ) \n",
    "                singles.append( ( d[0], name ) )\n",
    "            else:\n",
    "                print name, '\\tbad alignment'\n",
    "        elif len( d ) > 1:\n",
    "            print name, '\\t... ({} mutations)'.format( len( d ) ) \n",
    "            #print name, '\\t{}'.format( dstr ) "
   ]
  },
  {
   "cell_type": "code",
   "execution_count": 32,
   "metadata": {
    "collapsed": false
   },
   "outputs": [
    {
     "data": {
      "text/plain": [
       "[]"
      ]
     },
     "execution_count": 32,
     "metadata": {},
     "output_type": "execute_result"
    }
   ],
   "source": [
    "singles"
   ]
  },
  {
   "cell_type": "code",
   "execution_count": 33,
   "metadata": {
    "collapsed": false
   },
   "outputs": [
    {
     "data": {
      "text/plain": [
       "{}"
      ]
     },
     "execution_count": 33,
     "metadata": {},
     "output_type": "execute_result"
    }
   ],
   "source": [
    "dict( singles ) "
   ]
  },
  {
   "cell_type": "code",
   "execution_count": 34,
   "metadata": {
    "collapsed": false
   },
   "outputs": [
    {
     "name": "stdout",
     "output_type": "stream",
     "text": [
      "Found 0 of 31 expected mutants\n"
     ]
    }
   ],
   "source": [
    "# results \n",
    "\n",
    "picks = dict( singles ) \n",
    "l = len( picks ) \n",
    "print 'Found {} of {} expected mutants'.format( l, expect ) "
   ]
  },
  {
   "cell_type": "code",
   "execution_count": null,
   "metadata": {
    "collapsed": true
   },
   "outputs": [],
   "source": []
  }
 ],
 "metadata": {
  "kernelspec": {
   "display_name": "Python 2",
   "language": "python",
   "name": "python2"
  },
  "language_info": {
   "codemirror_mode": {
    "name": "ipython",
    "version": 2
   },
   "file_extension": ".py",
   "mimetype": "text/x-python",
   "name": "python",
   "nbconvert_exporter": "python",
   "pygments_lexer": "ipython2",
   "version": "2.7.11"
  }
 },
 "nbformat": 4,
 "nbformat_minor": 0
}
