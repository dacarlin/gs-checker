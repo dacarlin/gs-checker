{
 "cells": [
  {
   "cell_type": "markdown",
   "metadata": {},
   "source": [
    "# Kunkel sequence verifier \n",
    "\n",
    "Will attempt to verify your Kunkel sequencing results and pick clones with desired mutations. Requires EMBOSS `merger`, for aligning two Sanger reads, and `blastx`, for searching protein sequences with translated nucleotide sequences."
   ]
  },
  {
   "cell_type": "code",
   "execution_count": 96,
   "metadata": {
    "collapsed": false,
    "scrolled": false
   },
   "outputs": [
    {
     "name": "stdout",
     "output_type": "stream",
     "text": [
      "['F248K'] example/reads/A01.fa\n",
      "['Y294H'] example/reads/A02.fa\n",
      "['F415D'] example/reads/A05.fa\n",
      "['F248I'] example/reads/B01.fa\n",
      "['T296E'] example/reads/B02.fa\n",
      "['S298E'] example/reads/B03.fa\n",
      "['N220D'] example/reads/B04.fa\n",
      "['F248I'] example/reads/C01.fa\n",
      "['T296E'] example/reads/C02.fa\n",
      "['Y166E'] example/reads/C06.fa\n",
      "['I244E'] example/reads/D01.fa\n",
      "['T296E'] example/reads/D02.fa\n",
      "['E164D'] example/reads/D03.fa\n",
      "['L171D'] example/reads/D05.fa\n",
      "['Y166E'] example/reads/D06.fa\n",
      "['I244E'] example/reads/E01.fa\n",
      "['L171E'] example/reads/E05.fa\n",
      "['Y166E'] example/reads/E06.fa\n",
      "['W325E'] example/reads/F02.fa\n",
      "['E388C'] example/reads/F03.fa\n",
      "['N220E'] example/reads/F04.fa\n",
      "['L171E'] example/reads/F05.fa\n",
      "['F415N'] example/reads/F06.fa\n",
      "['Y294H'] example/reads/G01.fa\n",
      "['E169X'] example/reads/G03.fa\n",
      "['F415D'] example/reads/G04.fa\n",
      "['L171E'] example/reads/G05.fa\n",
      "['F415N'] example/reads/G06.fa\n",
      "['Y294H'] example/reads/H01.fa\n",
      "['S298N'] example/reads/H02.fa\n",
      "['E388C'] example/reads/H03.fa\n",
      "['N163K'] example/reads/H05.fa\n",
      "['F415N'] example/reads/H06.fa\n"
     ]
    }
   ],
   "source": [
    "from itertools import product \n",
    "from subprocess import call, check_output\n",
    "from glob import glob \n",
    "\n",
    "# input\n",
    "read_dir = 'example/reads'\n",
    "\n",
    "# first, we need a way to quickly generate all the possible wells in a 96-well plate \n",
    "wells_human = [ '{}{:02}'.format( i, j ) for ( i, j ) in product( 'ABCDEFGH', range( 1, 13 ) ) ]\n",
    "# woo one-liners \n",
    "\n",
    "# merge \n",
    "for well in wells_human:\n",
    "    fwd = glob( '{}/*T7_*{}*seq'.format( read_dir, well ) )\n",
    "    rev = glob( '{}/*T7term_*{}*seq'.format( read_dir, well ) )\n",
    "    if fwd and rev:\n",
    "        cmd = [ 'merger', '-asequence', fwd[0], '-bsequence', rev[0], '-sreverse2' ]\n",
    "        outs = [ '-outfile', '{}/{}.merger'.format( read_dir, well ), '-outseq', '{}/{}.fa'.format( read_dir, well ) ]\n",
    "        call( cmd + outs )\n",
    "\n",
    "# align and diff \n",
    "for fa in glob( '{}/*fa'.format( read_dir ) ):\n",
    "    lines = check_output( [ 'blastx', '-subject', 'example/bglb.pep', '-query', fa, '-outfmt',  '6 sseq qseq' ] ).split()\n",
    "    z = zip( lines[0], lines[1] )\n",
    "    d = [ '{}{}{}'.format( i, n+1, j ) for n, ( i, j ) in enumerate( z ) if i != j ] \n",
    "    if len( d ) == 1:\n",
    "        print d, fa "
   ]
  },
  {
   "cell_type": "code",
   "execution_count": null,
   "metadata": {
    "collapsed": true
   },
   "outputs": [],
   "source": []
  }
 ],
 "metadata": {
  "kernelspec": {
   "display_name": "Python 2",
   "language": "python",
   "name": "python2"
  },
  "language_info": {
   "codemirror_mode": {
    "name": "ipython",
    "version": 2
   },
   "file_extension": ".py",
   "mimetype": "text/x-python",
   "name": "python",
   "nbconvert_exporter": "python",
   "pygments_lexer": "ipython2",
   "version": "2.7.11"
  }
 },
 "nbformat": 4,
 "nbformat_minor": 0
}
